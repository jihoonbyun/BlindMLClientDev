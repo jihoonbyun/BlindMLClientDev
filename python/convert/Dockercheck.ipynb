{
 "cells": [
  {
   "cell_type": "code",
   "execution_count": 4,
   "id": "9ab7c390",
   "metadata": {},
   "outputs": [
    {
     "data": {
      "text/plain": [
       "False"
      ]
     },
     "execution_count": 4,
     "metadata": {},
     "output_type": "execute_result"
    }
   ],
   "source": [
    "import subprocess\n",
    "\n",
    "def check_docker_installed():\n",
    "    try:\n",
    "        # 'docker --version' 커맨드 실행\n",
    "        subprocess.run([\"docker\", \"--version\"], check=True, stdout=subprocess.PIPE, stderr=subprocess.PIPE)\n",
    "        return True\n",
    "    except (subprocess.CalledProcessError, FileNotFoundError):\n",
    "        return False\n",
    "\n",
    "# Docker 설치 여부 확인\n",
    "check_docker_installed()\n"
   ]
  },
  {
   "cell_type": "code",
   "execution_count": null,
   "id": "471a26d1",
   "metadata": {},
   "outputs": [],
   "source": []
  }
 ],
 "metadata": {
  "kernelspec": {
   "display_name": "Python 3 (ipykernel)",
   "language": "python",
   "name": "python3"
  },
  "language_info": {
   "codemirror_mode": {
    "name": "ipython",
    "version": 3
   },
   "file_extension": ".py",
   "mimetype": "text/x-python",
   "name": "python",
   "nbconvert_exporter": "python",
   "pygments_lexer": "ipython3",
   "version": "3.11.5"
  }
 },
 "nbformat": 4,
 "nbformat_minor": 5
}
