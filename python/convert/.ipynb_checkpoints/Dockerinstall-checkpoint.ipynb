{
 "cells": [
  {
   "cell_type": "code",
   "execution_count": 17,
   "id": "6c4f769f",
   "metadata": {},
   "outputs": [
    {
     "name": "stdout",
     "output_type": "stream",
     "text": [
      "Please install Docker maually.Windows does not currently support automatic installation\n"
     ]
    }
   ],
   "source": [
    "import subprocess\n",
    "import platform\n",
    "import ctypes\n",
    "import os\n",
    "\n",
    "def is_connected():\n",
    "    try:\n",
    "        param = '-n' if platform.system().lower() == 'windows' else '-c'\n",
    "        subprocess.check_call(['ping', param, '1', '1.1.1.1'], stdout=subprocess.DEVNULL, stderr=subprocess.DEVNULL)\n",
    "        return True\n",
    "    except subprocess.CalledProcessError:\n",
    "        print(\"Unable to ping test. This could be due to network restrictions or losing internet connection.\")\n",
    "        return False\n",
    "    \n",
    "def is_superuser():\n",
    "    if platform.system() == \"Windows\":\n",
    "        return ctypes.windll.shell32.IsUserAnAdmin() != 0\n",
    "    else:\n",
    "        return os.geteuid() == 0\n",
    "\n",
    "def request_sudo_permission():\n",
    "    response = input(\"This script requires superuser privileges to install Docker. Continue? (yes/no): \").strip().lower()\n",
    "    return response == 'yes'\n",
    "\n",
    "def install_docker_linux():\n",
    "    if not request_sudo_permission():\n",
    "        print(\"Superuser privileges not granted by the user.\")\n",
    "        return\n",
    "\n",
    "    try:\n",
    "        commands = [\n",
    "            \"sudo apt-get update\",\n",
    "            \"sudo apt-get install apt-transport-https ca-certificates curl software-properties-common\",\n",
    "            \"curl -fsSL https://download.docker.com/linux/ubuntu/gpg | sudo apt-key add -\",\n",
    "            \"sudo add-apt-repository 'deb [arch=amd64] https://download.docker.com/linux/ubuntu $(lsb_release -cs) stable'\",\n",
    "            \"sudo apt-get update\",\n",
    "            \"sudo apt-get install docker-ce\"\n",
    "        ]\n",
    "\n",
    "        for command in commands:\n",
    "            subprocess.run(command, shell=True, check=True)\n",
    "\n",
    "        print(\"Docker has been installed successfully on Linux.\")\n",
    "    except subprocess.CalledProcessError as e:\n",
    "        print(f\"An error occurred while installing Docker on Linux: {e}\")\n",
    "\n",
    "def main():\n",
    "    if not is_connected():\n",
    "        print(\"Please check internet connection status.\")\n",
    "        return\n",
    "    \n",
    "    if not platform.system() == 'Linux':\n",
    "        current_os = platform.system()\n",
    "        print(\"Please install Docker maually. {} does not currently support automatic installation\".format(current_os))\n",
    "        return\n",
    "\n",
    "    if platform.system() == 'Linux':\n",
    "        if not is_superuser():\n",
    "            print(\"This script is not running with superuser privileges. Exiting.\")\n",
    "            return\n",
    "        install_docker_linux()\n",
    "    else:\n",
    "        print(f\"This script does not support the {platform.system()} operating system.\")\n",
    "\n",
    "main()\n"
   ]
  },
  {
   "cell_type": "code",
   "execution_count": null,
   "id": "30c5e132",
   "metadata": {},
   "outputs": [],
   "source": []
  }
 ],
 "metadata": {
  "kernelspec": {
   "display_name": "Python 3 (ipykernel)",
   "language": "python",
   "name": "python3"
  },
  "language_info": {
   "codemirror_mode": {
    "name": "ipython",
    "version": 3
   },
   "file_extension": ".py",
   "mimetype": "text/x-python",
   "name": "python",
   "nbconvert_exporter": "python",
   "pygments_lexer": "ipython3",
   "version": "3.11.5"
  }
 },
 "nbformat": 4,
 "nbformat_minor": 5
}
