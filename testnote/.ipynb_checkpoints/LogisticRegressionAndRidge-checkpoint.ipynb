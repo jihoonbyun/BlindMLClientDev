{
 "cells": [
  {
   "cell_type": "code",
   "execution_count": 1,
   "id": "2edbb97d",
   "metadata": {},
   "outputs": [
    {
     "data": {
      "text/plain": [
       "(0.9766081871345029, 0.9649122807017544)"
      ]
     },
     "execution_count": 1,
     "metadata": {},
     "output_type": "execute_result"
    }
   ],
   "source": [
    "from sklearn.datasets import load_breast_cancer\n",
    "from sklearn.linear_model import LogisticRegression, Ridge\n",
    "from sklearn.model_selection import train_test_split\n",
    "from sklearn.metrics import accuracy_score\n",
    "\n",
    "# 데이터 로드\n",
    "data = load_breast_cancer()\n",
    "X = data.data\n",
    "y = data.target\n",
    "\n",
    "# 데이터를 훈련 세트와 테스트 세트로 분할\n",
    "X_train, X_test, y_train, y_test = train_test_split(X, y, test_size=0.3, random_state=42)\n",
    "\n",
    "# 로지스틱 회귀 모델 생성 및 훈련\n",
    "log_reg = LogisticRegression(max_iter=10000)\n",
    "log_reg.fit(X_train, y_train)\n",
    "\n",
    "# 로지스틱 회귀 모델 평가\n",
    "y_pred_log_reg = log_reg.predict(X_test)\n",
    "accuracy_log_reg = accuracy_score(y_test, y_pred_log_reg)\n",
    "\n",
    "# 릿지 회귀 모델 생성 및 훈련\n",
    "ridge_reg = Ridge()\n",
    "ridge_reg.fit(X_train, y_train)\n",
    "\n",
    "# 릿지 회귀 모델 평가\n",
    "y_pred_ridge_reg = ridge_reg.predict(X_test)\n",
    "# 릿지 회귀는 연속적인 출력을 제공하므로 이진 분류 문제에 대해서는 임계값 설정 필요\n",
    "threshold = 0.5\n",
    "y_pred_ridge_reg = (y_pred_ridge_reg > threshold).astype(int)\n",
    "accuracy_ridge_reg = accuracy_score(y_test, y_pred_ridge_reg)\n",
    "\n",
    "accuracy_log_reg, accuracy_ridge_reg\n",
    "\n"
   ]
  },
  {
   "cell_type": "code",
   "execution_count": null,
   "id": "fac199da",
   "metadata": {},
   "outputs": [],
   "source": []
  }
 ],
 "metadata": {
  "kernelspec": {
   "display_name": "Python 3 (ipykernel)",
   "language": "python",
   "name": "python3"
  },
  "language_info": {
   "codemirror_mode": {
    "name": "ipython",
    "version": 3
   },
   "file_extension": ".py",
   "mimetype": "text/x-python",
   "name": "python",
   "nbconvert_exporter": "python",
   "pygments_lexer": "ipython3",
   "version": "3.8.10"
  }
 },
 "nbformat": 4,
 "nbformat_minor": 5
}
