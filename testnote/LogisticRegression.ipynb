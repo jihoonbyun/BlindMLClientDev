{
 "cells": [
  {
   "cell_type": "code",
   "execution_count": 1,
   "id": "2edbb97d",
   "metadata": {},
   "outputs": [
    {
     "name": "stdout",
     "output_type": "stream",
     "text": [
      "Logistic Regression - Accuracy: 0.956140350877193 \\nConfusion Matrix:\\n [[39  4]\n",
      " [ 1 70]]\n"
     ]
    },
    {
     "name": "stderr",
     "output_type": "stream",
     "text": [
      "C:\\Users\\1212y\\anaconda3\\lib\\site-packages\\sklearn\\linear_model\\_logistic.py:814: ConvergenceWarning: lbfgs failed to converge (status=1):\n",
      "STOP: TOTAL NO. of ITERATIONS REACHED LIMIT.\n",
      "\n",
      "Increase the number of iterations (max_iter) or scale the data as shown in:\n",
      "    https://scikit-learn.org/stable/modules/preprocessing.html\n",
      "Please also refer to the documentation for alternative solver options:\n",
      "    https://scikit-learn.org/stable/modules/linear_model.html#logistic-regression\n",
      "  n_iter_i = _check_optimize_result(\n"
     ]
    }
   ],
   "source": [
    "from sklearn.datasets import load_breast_cancer\n",
    "from sklearn.model_selection import train_test_split\n",
    "from sklearn.linear_model import LogisticRegression\n",
    "from sklearn.metrics import accuracy_score, confusion_matrix\n",
    "import pandas as pd\n",
    "\n",
    "# Load the breast cancer dataset\n",
    "data = load_breast_cancer()\n",
    "X = pd.DataFrame(data.data, columns=data.feature_names)\n",
    "y = pd.DataFrame(data.target, columns=[\"Diagnosis\"])\n",
    "\n",
    "# Split the dataset into training and testing sets\n",
    "X_train, X_test, y_train, y_test = train_test_split(X, y, test_size=0.2, random_state=42)\n",
    "\n",
    "# Create a logistic regression model for binary classification\n",
    "logistic_model = LogisticRegression()\n",
    "logistic_model.fit(X_train, y_train.values.ravel())  # Train the model\n",
    "y_pred_logistic = logistic_model.predict(X_test)  # Make predictions\n",
    "\n",
    "# Evaluate the logistic regression model\n",
    "accuracy_logistic = accuracy_score(y_test, y_pred_logistic)\n",
    "conf_matrix_logistic = confusion_matrix(y_test, y_pred_logistic)\n",
    "\n",
    "# Print the results\n",
    "print(\"Logistic Regression - Accuracy:\", accuracy_logistic, \"\\\\nConfusion Matrix:\\\\n\", conf_matrix_logistic)"
   ]
  },
  {
   "cell_type": "code",
   "execution_count": null,
   "id": "fac199da",
   "metadata": {},
   "outputs": [],
   "source": []
  }
 ],
 "metadata": {
  "kernelspec": {
   "display_name": "Python 3 (ipykernel)",
   "language": "python",
   "name": "python3"
  },
  "language_info": {
   "codemirror_mode": {
    "name": "ipython",
    "version": 3
   },
   "file_extension": ".py",
   "mimetype": "text/x-python",
   "name": "python",
   "nbconvert_exporter": "python",
   "pygments_lexer": "ipython3",
   "version": "3.9.12"
  }
 },
 "nbformat": 4,
 "nbformat_minor": 5
}
